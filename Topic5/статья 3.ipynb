{
 "cells": [
  {
   "cell_type": "code",
   "execution_count": 18,
   "id": "452bc9a8",
   "metadata": {},
   "outputs": [],
   "source": [
    "%matplotlib inline\n",
    "import pandas as pd\n",
    "import matplotlib.pyplot as plt\n",
    "\n",
    "plt.style.use('ggplot')\n",
    "\n",
    "plt.rcParams['figure.figsize'] = (10, 5)"
   ]
  },
  {
   "cell_type": "code",
   "execution_count": 19,
   "id": "6897b3bc",
   "metadata": {},
   "outputs": [],
   "source": [
    "gov_workers = pd.read_csv(r'C:\\Users\\Lenovo\\Downloads\\titularisations.csv',\n",
    "                              encoding='utf-8',\n",
    "                              parse_dates=['Année'],\n",
    "                              dayfirst=True,\n",
    "                              index_col='Année')"
   ]
  },
  {
   "cell_type": "code",
   "execution_count": 20,
   "id": "4e04694e",
   "metadata": {
    "scrolled": true
   },
   "outputs": [
    {
     "data": {
      "text/html": [
       "<div>\n",
       "<style scoped>\n",
       "    .dataframe tbody tr th:only-of-type {\n",
       "        vertical-align: middle;\n",
       "    }\n",
       "\n",
       "    .dataframe tbody tr th {\n",
       "        vertical-align: top;\n",
       "    }\n",
       "\n",
       "    .dataframe thead th {\n",
       "        text-align: right;\n",
       "    }\n",
       "</style>\n",
       "<table border=\"1\" class=\"dataframe\">\n",
       "  <thead>\n",
       "    <tr style=\"text-align: right;\">\n",
       "      <th></th>\n",
       "      <th>Collectivité</th>\n",
       "      <th>Catégorie</th>\n",
       "      <th>Corps</th>\n",
       "      <th>Nombre de femmes titularisées</th>\n",
       "      <th>Nombre d'hommes titularisés</th>\n",
       "    </tr>\n",
       "    <tr>\n",
       "      <th>Année</th>\n",
       "      <th></th>\n",
       "      <th></th>\n",
       "      <th></th>\n",
       "      <th></th>\n",
       "      <th></th>\n",
       "    </tr>\n",
       "  </thead>\n",
       "  <tbody>\n",
       "    <tr>\n",
       "      <th>2014-01-01</th>\n",
       "      <td>COMMUNE</td>\n",
       "      <td>A</td>\n",
       "      <td>CHARGES ETUDES DOCUMENTAIRES ADM.PARIS.</td>\n",
       "      <td>1.0</td>\n",
       "      <td>0.0</td>\n",
       "    </tr>\n",
       "    <tr>\n",
       "      <th>2014-01-01</th>\n",
       "      <td>COMMUNE</td>\n",
       "      <td>C</td>\n",
       "      <td>AGENTS SPECIALISE DES ECOLES MATERNELLES</td>\n",
       "      <td>99.0</td>\n",
       "      <td>0.0</td>\n",
       "    </tr>\n",
       "    <tr>\n",
       "      <th>2015-01-01</th>\n",
       "      <td>DEPARTEMENT</td>\n",
       "      <td>A</td>\n",
       "      <td>CONSEILLERS SOCIO-EDUCATIFS ADM. PARISIENNES*</td>\n",
       "      <td>5.0</td>\n",
       "      <td>1.0</td>\n",
       "    </tr>\n",
       "    <tr>\n",
       "      <th>2015-01-01</th>\n",
       "      <td>COMMUNE</td>\n",
       "      <td>C</td>\n",
       "      <td>EGOUTIERS ET PERSONNELS RESEAUX SOUTERRAINS</td>\n",
       "      <td>0.0</td>\n",
       "      <td>0.0</td>\n",
       "    </tr>\n",
       "    <tr>\n",
       "      <th>2015-01-01</th>\n",
       "      <td>COMMUNE</td>\n",
       "      <td>C</td>\n",
       "      <td>AGENT DE LOGISTIQUE GENERALE</td>\n",
       "      <td>8.0</td>\n",
       "      <td>0.0</td>\n",
       "    </tr>\n",
       "  </tbody>\n",
       "</table>\n",
       "</div>"
      ],
      "text/plain": [
       "           Collectivité Catégorie  \\\n",
       "Année                               \n",
       "2014-01-01      COMMUNE         A   \n",
       "2014-01-01      COMMUNE         C   \n",
       "2015-01-01  DEPARTEMENT         A   \n",
       "2015-01-01      COMMUNE         C   \n",
       "2015-01-01      COMMUNE         C   \n",
       "\n",
       "                                                    Corps  \\\n",
       "Année                                                       \n",
       "2014-01-01        CHARGES ETUDES DOCUMENTAIRES ADM.PARIS.   \n",
       "2014-01-01       AGENTS SPECIALISE DES ECOLES MATERNELLES   \n",
       "2015-01-01  CONSEILLERS SOCIO-EDUCATIFS ADM. PARISIENNES*   \n",
       "2015-01-01    EGOUTIERS ET PERSONNELS RESEAUX SOUTERRAINS   \n",
       "2015-01-01                   AGENT DE LOGISTIQUE GENERALE   \n",
       "\n",
       "            Nombre de femmes titularisées  Nombre d'hommes titularisés  \n",
       "Année                                                                   \n",
       "2014-01-01                            1.0                          0.0  \n",
       "2014-01-01                           99.0                          0.0  \n",
       "2015-01-01                            5.0                          1.0  \n",
       "2015-01-01                            0.0                          0.0  \n",
       "2015-01-01                            8.0                          0.0  "
      ]
     },
     "execution_count": 20,
     "metadata": {},
     "output_type": "execute_result"
    }
   ],
   "source": [
    "gov_workers[:5]"
   ]
  },
  {
   "cell_type": "code",
   "execution_count": 21,
   "id": "151cb1a3",
   "metadata": {},
   "outputs": [
    {
     "data": {
      "text/plain": [
       "Année\n",
       "2014-01-01        COMMUNE\n",
       "2014-01-01        COMMUNE\n",
       "2015-01-01    DEPARTEMENT\n",
       "2015-01-01        COMMUNE\n",
       "2015-01-01        COMMUNE\n",
       "Name: Collectivité, dtype: object"
      ]
     },
     "execution_count": 21,
     "metadata": {},
     "output_type": "execute_result"
    }
   ],
   "source": [
    "gov_workers[:5]['Collectivité']"
   ]
  },
  {
   "cell_type": "code",
   "execution_count": 23,
   "id": "58b3367f",
   "metadata": {},
   "outputs": [
    {
     "data": {
      "text/html": [
       "<div>\n",
       "<style scoped>\n",
       "    .dataframe tbody tr th:only-of-type {\n",
       "        vertical-align: middle;\n",
       "    }\n",
       "\n",
       "    .dataframe tbody tr th {\n",
       "        vertical-align: top;\n",
       "    }\n",
       "\n",
       "    .dataframe thead th {\n",
       "        text-align: right;\n",
       "    }\n",
       "</style>\n",
       "<table border=\"1\" class=\"dataframe\">\n",
       "  <thead>\n",
       "    <tr style=\"text-align: right;\">\n",
       "      <th></th>\n",
       "      <th>Collectivité</th>\n",
       "      <th>Corps</th>\n",
       "    </tr>\n",
       "    <tr>\n",
       "      <th>Année</th>\n",
       "      <th></th>\n",
       "      <th></th>\n",
       "    </tr>\n",
       "  </thead>\n",
       "  <tbody>\n",
       "    <tr>\n",
       "      <th>2014-01-01</th>\n",
       "      <td>COMMUNE</td>\n",
       "      <td>CHARGES ETUDES DOCUMENTAIRES ADM.PARIS.</td>\n",
       "    </tr>\n",
       "    <tr>\n",
       "      <th>2014-01-01</th>\n",
       "      <td>COMMUNE</td>\n",
       "      <td>AGENTS SPECIALISE DES ECOLES MATERNELLES</td>\n",
       "    </tr>\n",
       "    <tr>\n",
       "      <th>2015-01-01</th>\n",
       "      <td>DEPARTEMENT</td>\n",
       "      <td>CONSEILLERS SOCIO-EDUCATIFS ADM. PARISIENNES*</td>\n",
       "    </tr>\n",
       "    <tr>\n",
       "      <th>2015-01-01</th>\n",
       "      <td>COMMUNE</td>\n",
       "      <td>EGOUTIERS ET PERSONNELS RESEAUX SOUTERRAINS</td>\n",
       "    </tr>\n",
       "    <tr>\n",
       "      <th>2015-01-01</th>\n",
       "      <td>COMMUNE</td>\n",
       "      <td>AGENT DE LOGISTIQUE GENERALE</td>\n",
       "    </tr>\n",
       "  </tbody>\n",
       "</table>\n",
       "</div>"
      ],
      "text/plain": [
       "           Collectivité                                          Corps\n",
       "Année                                                                 \n",
       "2014-01-01      COMMUNE        CHARGES ETUDES DOCUMENTAIRES ADM.PARIS.\n",
       "2014-01-01      COMMUNE       AGENTS SPECIALISE DES ECOLES MATERNELLES\n",
       "2015-01-01  DEPARTEMENT  CONSEILLERS SOCIO-EDUCATIFS ADM. PARISIENNES*\n",
       "2015-01-01      COMMUNE    EGOUTIERS ET PERSONNELS RESEAUX SOUTERRAINS\n",
       "2015-01-01      COMMUNE                   AGENT DE LOGISTIQUE GENERALE"
      ]
     },
     "execution_count": 23,
     "metadata": {},
     "output_type": "execute_result"
    }
   ],
   "source": [
    "gov_workers[:5][['Collectivité', 'Corps']]"
   ]
  },
  {
   "cell_type": "code",
   "execution_count": 26,
   "id": "9860e9a8",
   "metadata": {},
   "outputs": [],
   "source": [
    "collectivite = gov_workers['Collectivité'].value_counts()"
   ]
  },
  {
   "cell_type": "code",
   "execution_count": 27,
   "id": "3ff976c3",
   "metadata": {},
   "outputs": [
    {
     "data": {
      "text/plain": [
       "<Axes: xlabel='Collectivité'>"
      ]
     },
     "execution_count": 27,
     "metadata": {},
     "output_type": "execute_result"
    },
    {
     "data": {
      "image/png": "[encoded data removed]",
      "text/plain": [
       "<Figure size 1000x500 with 1 Axes>"
      ]
     },
     "metadata": {},
     "output_type": "display_data"
    }
   ],
   "source": [
    "collectivite.plot(kind='bar')"
   ]
  }
 ],
 "metadata": {
  "kernelspec": {
   "display_name": "Python 3 (ipykernel)",
   "language": "python",
   "name": "python3"
  },
  "language_info": {
   "codemirror_mode": {
    "name": "ipython",
    "version": 3
   },
   "file_extension": ".py",
   "mimetype": "text/x-python",
   "name": "python",
   "nbconvert_exporter": "python",
   "pygments_lexer": "ipython3",
   "version": "3.11.5"
  }
 },
 "nbformat": 4,
 "nbformat_minor": 5
}
